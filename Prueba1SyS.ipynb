{
  "nbformat": 4,
  "nbformat_minor": 0,
  "metadata": {
    "colab": {
      "provenance": []
    },
    "kernelspec": {
      "name": "python3",
      "display_name": "Python 3"
    },
    "language_info": {
      "name": "python"
    }
  },
  "cells": [
    {
      "cell_type": "code",
      "execution_count": null,
      "metadata": {
        "colab": {
          "base_uri": "https://localhost:8080/"
        },
        "id": "cVBeObfDjLZA",
        "outputId": "3806da9e-5885-4490-a8ee-56bd76eb716c"
      },
      "outputs": [
        {
          "output_type": "execute_result",
          "data": {
            "text/plain": [
              "float"
            ]
          },
          "metadata": {},
          "execution_count": 8
        }
      ],
      "source": [
        "import numpy as np\n",
        "x = 53\n",
        "y = 25.4\n",
        "type(y)"
      ]
    },
    {
      "cell_type": "code",
      "source": [],
      "metadata": {
        "id": "pt9Rx1KfudE8"
      },
      "execution_count": null,
      "outputs": []
    },
    {
      "cell_type": "code",
      "source": [
        "import numpy as np\n",
        "p= np.array ([12,'hola', -3, -2.22, 0, 10.1, 5])\n",
        "p\n",
        "p.shape\n",
        "print(p)"
      ],
      "metadata": {
        "colab": {
          "base_uri": "https://localhost:8080/"
        },
        "id": "NAEEpqvRcvzX",
        "outputId": "d10f1bf1-492b-4b85-d32f-e0b5c0cf71b8"
      },
      "execution_count": null,
      "outputs": [
        {
          "output_type": "stream",
          "name": "stdout",
          "text": [
            "['12' 'hola' '-3' '-2.22' '0' '10.1' '5']\n"
          ]
        }
      ]
    },
    {
      "cell_type": "code",
      "source": [
        "import numpy as np\n",
        "k=200\n",
        "p=-15\n",
        "d=10\n",
        "pc=np.linspace(start=p,stop=d,num=k)\n",
        "print(pc)\n",
        "print(pc.shape)\n",
        "ps=(d-p)/k\n",
        "print(ps)"
      ],
      "metadata": {
        "colab": {
          "base_uri": "https://localhost:8080/"
        },
        "id": "xMOO2AEfdmkN",
        "outputId": "8555cae1-3455-4b5a-e416-347e1f066ded"
      },
      "execution_count": null,
      "outputs": [
        {
          "output_type": "stream",
          "name": "stdout",
          "text": [
            "[-15.         -14.87437186 -14.74874372 -14.62311558 -14.49748744\n",
            " -14.3718593  -14.24623116 -14.12060302 -13.99497487 -13.86934673\n",
            " -13.74371859 -13.61809045 -13.49246231 -13.36683417 -13.24120603\n",
            " -13.11557789 -12.98994975 -12.86432161 -12.73869347 -12.61306533\n",
            " -12.48743719 -12.36180905 -12.2361809  -12.11055276 -11.98492462\n",
            " -11.85929648 -11.73366834 -11.6080402  -11.48241206 -11.35678392\n",
            " -11.23115578 -11.10552764 -10.9798995  -10.85427136 -10.72864322\n",
            " -10.60301508 -10.47738693 -10.35175879 -10.22613065 -10.10050251\n",
            "  -9.97487437  -9.84924623  -9.72361809  -9.59798995  -9.47236181\n",
            "  -9.34673367  -9.22110553  -9.09547739  -8.96984925  -8.84422111\n",
            "  -8.71859296  -8.59296482  -8.46733668  -8.34170854  -8.2160804\n",
            "  -8.09045226  -7.96482412  -7.83919598  -7.71356784  -7.5879397\n",
            "  -7.46231156  -7.33668342  -7.21105528  -7.08542714  -6.95979899\n",
            "  -6.83417085  -6.70854271  -6.58291457  -6.45728643  -6.33165829\n",
            "  -6.20603015  -6.08040201  -5.95477387  -5.82914573  -5.70351759\n",
            "  -5.57788945  -5.45226131  -5.32663317  -5.20100503  -5.07537688\n",
            "  -4.94974874  -4.8241206   -4.69849246  -4.57286432  -4.44723618\n",
            "  -4.32160804  -4.1959799   -4.07035176  -3.94472362  -3.81909548\n",
            "  -3.69346734  -3.5678392   -3.44221106  -3.31658291  -3.19095477\n",
            "  -3.06532663  -2.93969849  -2.81407035  -2.68844221  -2.56281407\n",
            "  -2.43718593  -2.31155779  -2.18592965  -2.06030151  -1.93467337\n",
            "  -1.80904523  -1.68341709  -1.55778894  -1.4321608   -1.30653266\n",
            "  -1.18090452  -1.05527638  -0.92964824  -0.8040201   -0.67839196\n",
            "  -0.55276382  -0.42713568  -0.30150754  -0.1758794   -0.05025126\n",
            "   0.07537688   0.20100503   0.32663317   0.45226131   0.57788945\n",
            "   0.70351759   0.82914573   0.95477387   1.08040201   1.20603015\n",
            "   1.33165829   1.45728643   1.58291457   1.70854271   1.83417085\n",
            "   1.95979899   2.08542714   2.21105528   2.33668342   2.46231156\n",
            "   2.5879397    2.71356784   2.83919598   2.96482412   3.09045226\n",
            "   3.2160804    3.34170854   3.46733668   3.59296482   3.71859296\n",
            "   3.84422111   3.96984925   4.09547739   4.22110553   4.34673367\n",
            "   4.47236181   4.59798995   4.72361809   4.84924623   4.97487437\n",
            "   5.10050251   5.22613065   5.35175879   5.47738693   5.60301508\n",
            "   5.72864322   5.85427136   5.9798995    6.10552764   6.23115578\n",
            "   6.35678392   6.48241206   6.6080402    6.73366834   6.85929648\n",
            "   6.98492462   7.11055276   7.2361809    7.36180905   7.48743719\n",
            "   7.61306533   7.73869347   7.86432161   7.98994975   8.11557789\n",
            "   8.24120603   8.36683417   8.49246231   8.61809045   8.74371859\n",
            "   8.86934673   8.99497487   9.12060302   9.24623116   9.3718593\n",
            "   9.49748744   9.62311558   9.74874372   9.87437186  10.        ]\n",
            "(200,)\n",
            "0.125\n"
          ]
        }
      ]
    },
    {
      "cell_type": "markdown",
      "source": [
        "Write a program that displays the result of the following arithmetic operation on the screen:  x(t)=(3+22.5)2"
      ],
      "metadata": {
        "id": "fz9i4N2Inskc"
      }
    },
    {
      "cell_type": "code",
      "source": [
        "x=(3+22.5)*2\n",
        "x"
      ],
      "metadata": {
        "colab": {
          "base_uri": "https://localhost:8080/"
        },
        "id": "U25L4M9qnzjZ",
        "outputId": "52306e51-f080-458f-8548-dadc310eea68"
      },
      "execution_count": null,
      "outputs": [
        {
          "output_type": "execute_result",
          "data": {
            "text/plain": [
              "51.0"
            ]
          },
          "metadata": {},
          "execution_count": 1
        }
      ]
    },
    {
      "cell_type": "markdown",
      "source": [
        "Write a program that asks the user for the number of hours worked and the hourly rate. Then, it should display on the screen the corresponding payment."
      ],
      "metadata": {
        "id": "isN7cP0woL3v"
      }
    },
    {
      "cell_type": "code",
      "source": [
        "HORAS=int(input(\"Cuantas horas ha trabajado? \"))\n",
        "COBRO=float(input(\"Cuanto cobra por hora? \"))\n",
        "PAGO=COBRO*HORAS\n",
        "print(\"Su pago es de\",PAGO)"
      ],
      "metadata": {
        "colab": {
          "base_uri": "https://localhost:8080/"
        },
        "id": "4FHnvmumoMzn",
        "outputId": "391e5f81-f753-46bc-d69e-58d8b6a667dd"
      },
      "execution_count": null,
      "outputs": [
        {
          "output_type": "stream",
          "name": "stdout",
          "text": [
            "Cuantas horas ha trabajado?5\n",
            "Cuanto cobra por hora?25\n",
            "Su pago es de 125.0\n"
          ]
        }
      ]
    },
    {
      "cell_type": "markdown",
      "source": [
        "Write a program that asks the user for their weight (in kg) and height (in meters), calculates the body mass index (BMI), stores it in a variable, and displays the message \"Your body mass index is imc\" on the screen, where imc is the calculated BMI rounded to two decimal places."
      ],
      "metadata": {
        "id": "g5rbv3QApqU7"
      }
    },
    {
      "cell_type": "code",
      "source": [
        "PESO=float(input(\"Digite su peso en kg \"))\n",
        "ALTURA=float(input(\"Digite su altura en metros \"))\n",
        "INDICE=PESO/ALTURA\n",
        "print(\"El inidice de masa corporal es de\",INDICE)"
      ],
      "metadata": {
        "colab": {
          "base_uri": "https://localhost:8080/"
        },
        "id": "hD3x2IGDpryA",
        "outputId": "b8b303d8-e097-4afc-b9fd-d995504d9bcf"
      },
      "execution_count": null,
      "outputs": [
        {
          "output_type": "stream",
          "name": "stdout",
          "text": [
            "Digite su peso en kg10\n",
            "Digite su altura en metros5\n",
            "El inidice de masa corporal es de 2.0\n"
          ]
        }
      ]
    },
    {
      "cell_type": "markdown",
      "source": [
        "In order to pay a certain tax, you must be over 16 years old and have a monthly income equal to or greater than €1000. Write a program that asks the user for their age and monthly income, and displays whether the user has to pay the tax or not."
      ],
      "metadata": {
        "id": "HvEGEwsRuj3i"
      }
    },
    {
      "cell_type": "code",
      "source": [
        "X=int(input(\"Digite edad\"))\n",
        "Y=int(input(\"Digite ingreso\"))\n",
        "if X>16:\n",
        "  if Y>=1000:\n",
        "     print(\"Tiene que pagar impuesto\")\n",
        "  else:\n",
        "     print(\"No tiene que pagar impuesto\")\n",
        "else:\n",
        " print(\"No tiene que pagar impuesto\")"
      ],
      "metadata": {
        "id": "CjB1nJ57ufkz"
      },
      "execution_count": null,
      "outputs": []
    },
    {
      "cell_type": "markdown",
      "source": [
        "The Bella Napoli pizzeria offers vegetarian and non-vegetarian pizzas to its customers. The ingredients for each type of pizza are as follows:\n",
        "Vegetarian ingredients: Bell peppers and tofu.\n",
        "\n",
        "Non-vegetarian ingredients: Pepperoni, Ham, and Salmon.\n",
        "\n",
        "Write a program that asks the user if they want a vegetarian pizza or not, and based on their response, displays a menu with the available ingredients for them to choose from. Only one additional ingredient can be chosen besides the mozzarella and tomato, which are included in all pizzas. Finally, the program should display whether the chosen pizza is vegetarian or not, along with all the ingredients it contains."
      ],
      "metadata": {
        "id": "2qXkPdO4uqpr"
      }
    },
    {
      "cell_type": "code",
      "source": [
        "TIPO=int(input(\"Escoger el tipo de pizza, 1 para vegetariana, 2 para no vegetariana\"))\n",
        "if TIPO==1:\n",
        "  OPCIONES1=int(input(\"Escoger ingrediente 1 pimiento, 2 tofu\"))\n",
        "  if OPCIONES1==1:\n",
        "     print(\"Escogio pizza vegetariana con pimiento\")\n",
        "  if OPCIONES1==2:\n",
        "     print(\"Escogio pizza vegetariana con tofu\")\n",
        "  elif OPCIONES1 !=1 and OPCIONES1 !=2:\n",
        "     print(\"Esta opcion no es valida\")\n",
        "if TIPO==2:\n",
        "  OPCIONES2=int(input(\"Escoger ingrediente 1 peperoni, 2 jamon, 3 salmon\"))\n",
        "  if OPCIONES2==1:\n",
        "     print(\"Escogio pizza no vegetariana con peperoina\")\n",
        "  if OPCIONES2==2:\n",
        "     print(\"Escogio pizza no vegetariana con jamon\")\n",
        "  if OPCIONES2==3:\n",
        "     print(\"Escogio pizza no vegetariana con salmon\")\n",
        "  elif OPCIONES2 !=1 and OPCIONES2 !=2 and OPCIONES2 !=3:\n",
        "     print(\"Esta opcion no es valida\")\n",
        "elif TIPO !=1 and TIPO != 2:\n",
        "   print(\"Esta opcion\")"
      ],
      "metadata": {
        "id": "qasCKlUsut0z"
      },
      "execution_count": null,
      "outputs": []
    },
    {
      "cell_type": "markdown",
      "source": [
        "Write a code that ask the user to enter an integer number every time, and the process will be repeated with more numbers until the user enters a zero.\n",
        "\n",
        "At the end (when the zero is entered), show the amount of numbers entered."
      ],
      "metadata": {
        "id": "wfnUMKAqkyFN"
      }
    },
    {
      "cell_type": "code",
      "source": [
        "cont=1\n",
        "i=int(input(\"Digite numero \"))\n",
        "while i!=0:\n",
        "  i=int(input(\"Digite numero \"))\n",
        "  cont += 1\n",
        "print(cont)"
      ],
      "metadata": {
        "colab": {
          "base_uri": "https://localhost:8080/"
        },
        "id": "KxViD-P_kz83",
        "outputId": "24dc6211-e7c5-450d-ee45-0bd8e35dc484"
      },
      "execution_count": null,
      "outputs": [
        {
          "output_type": "stream",
          "name": "stdout",
          "text": [
            "Digite numero 0\n",
            "1\n"
          ]
        }
      ]
    },
    {
      "cell_type": "markdown",
      "source": [
        "Use the input() function to ask for the user to enter one integer number. Only if the number is even, it will be accumulated.\n",
        "\n",
        "The program must come to an end if the sum of the numbers surpasses 50 or if the user enters a maximum of 10 numbers."
      ],
      "metadata": {
        "id": "yiEDtGpvmYax"
      }
    },
    {
      "cell_type": "code",
      "source": [
        "suma=0\n",
        "cont=0\n",
        "while suma<=50 and cont<10:\n",
        "  i=int(input(\"Digite numero\"))\n",
        "  if i%2 == 0:\n",
        "    suma=suma+i\n",
        "    cont += 1"
      ],
      "metadata": {
        "colab": {
          "base_uri": "https://localhost:8080/"
        },
        "id": "VOb5Ls3BmZUb",
        "outputId": "88b0a9de-f6ad-4175-8e0f-74a3f6a1650f"
      },
      "execution_count": null,
      "outputs": [
        {
          "name": "stdout",
          "output_type": "stream",
          "text": [
            "Digite numero2\n",
            "Digite numero2\n",
            "Digite numero2\n",
            "Digite numero2\n",
            "Digite numero2\n",
            "Digite numero2\n",
            "Digite numero2\n",
            "Digite numero2\n",
            "Digite numero2\n",
            "Digite numero2\n"
          ]
        }
      ]
    }
  ]
}